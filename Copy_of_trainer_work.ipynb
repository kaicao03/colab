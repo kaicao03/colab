{
  "nbformat": 4,
  "nbformat_minor": 0,
  "metadata": {
    "colab": {
      "name": "Copy of faceswap-trainer-work.ipynb",
      "provenance": [],
      "collapsed_sections": [
        "-nPdeX6cBUP2"
      ]
    },
    "kernelspec": {
      "name": "python3",
      "display_name": "Python 3"
    },
    "accelerator": "GPU"
  },
  "cells": [
    {
      "metadata": {
        "id": "RROOaiIBkTHS"
      },
      "cell_type": "markdown",
      "source": [
        "# Faceswap Trainer Notebook\n",
        "\n",
        "**Description:**\n",
        "\n",
        "This is a jupyter notebook for training faceswap models on Google Colaboratory or colab. You will get a NVIDIA K80 GPU with 12GB of VRAM available for traning. It's advised that you use an external storage to store your models like Google Drive so you don't loose your work if something happens to the colab instance. You should have the traning image files on the colab machine to avoid network syncing. The instructions are based on my personal workflow but you can change where or how you save and load your data.\n",
        "\n",
        "**Instruction:**\n",
        "\n",
        "You should check that your instance has a GPU available. \n",
        "\n",
        "*   Go to top menu Runtime -> Change runtime type -> set Python3 and GPU\n",
        "*   When done run the GPU status notebook to check GPU information\n",
        "\n",
        "In the import packages section, uncomment the version of faceswap you would like to add. The first one is the latest faceswap code others are there for legacy reasons, version we know that work. \n",
        "\n",
        "Connect your Google Drive with the colab, this will mount your Google Drive to folder Drive, it will act as a local folder\n",
        "\n",
        "Alternativly you can upload images and models in zip files. Image set should be named set.zip and models models.zip. Run a cell and then browse the appropriate zip file.\n",
        "\n",
        "Run the first cell in the faceswap traning section, that would initialize the image preview python functions\n",
        "\n",
        "Run train compand with appopriate params:\n",
        "\n",
        "\n",
        "*   -A - face A folder\n",
        "*   -B - face B folder\n",
        "*   -m - model path\n",
        "*   -t - model type name, trainers: original, dfaker, dfl_h128, iae, unblanced, villain\n",
        "*   -bs - batch size, use an approprite batch size based on what are you trying to achive and the available GPU memory\n",
        "*   -s - save interavl, detemines how often does the model save and updates the preview window. Syncing with cloud storage can be slow with large models\n",
        "\n",
        "If you are an advanced user, you can view the tran config ini file by runing the cell under traning. Cell under that one will update the config file with the cell contents\n",
        "\n",
        "To end traning press the stop icon once, that will start the end process. Wait for the model to save after that the cell will stop executing\n",
        "\n",
        "**Notes:**\n",
        "\n",
        "\n",
        "*    Colab instance will shutdown after 12hours\n",
        "*    If you get an error no GPU available try again later\n",
        "*    You can shutdown the browser when executing a script after about an hour without the browser the notebook will terminate\n",
        "*    If saving to Google Drive you have to monitor the amount of free space on the drive, every save cycle it will send prevous model to the trash. If the space fills up the last save is going to get corrupted. The training will break and a model from the trash will have be restored \n",
        "*    You can run only 1 cell at a time\n"
      ]
    },
    {
      "metadata": {
        "id": "rS2r3y8M_FZ8"
      },
      "cell_type": "markdown",
      "source": [
        "# Get GPU status\n"
      ]
    },
    {
      "metadata": {
        "id": "_UFW54uqbtgv",
        "cellView": "form",
        "colab": {
          "base_uri": "https://localhost:8080/"
        },
        "outputId": "c3fe378f-60ff-4d02-e8dd-221e3e7908af"
      },
      "cell_type": "code",
      "source": [
        "#@title Display Virtual Machine system information, use this to check the assigned GPU\n",
        "\n",
        "def install_dependencies():\n",
        "  !ln -sf /opt/bin/nvidia-smi /usr/bin/nvidia-smi;\n",
        "  !pip install gputil;\n",
        "  !pip install psutil;\n",
        "  !pip install humanize;%%capture\n",
        "\n",
        "\n",
        "def printm():\n",
        " GPUs = GPU.getGPUs()\n",
        "\n",
        " if len(GPUs) == 0:\n",
        "  print(\"No GPU available.\")\n",
        "  return\n",
        "\n",
        " gpu = GPUs[0]\n",
        " process = psutil.Process(os.getpid())\n",
        " print(\"Gen RAM Free: \" + humanize.naturalsize( psutil.virtual_memory().available ), \" | Proc size: \" + humanize.naturalsize( process.memory_info().rss))\n",
        " print(\"GPU RAM Free: {0:.0f}MB | Used: {1:.0f}MB | Util {2:3.0f}% | Total {3:.0f}MB\".format(gpu.memoryFree, gpu.memoryUsed, gpu.memoryUtil*100, gpu.memoryTotal))\n",
        "\n",
        "from IPython.utils import io\n",
        "from google.colab import drive\n",
        "import psutil\n",
        "import humanize\n",
        "import os\n",
        " \n",
        "with io.capture_output() as captured:\n",
        "  install_dependencies()\n",
        "print(\"Dependencies installed.\")\n",
        "\n",
        "\n",
        "import GPUtil as GPU\n",
        "\n",
        "printm()"
      ],
      "execution_count": null,
      "outputs": [
        {
          "output_type": "stream",
          "name": "stdout",
          "text": [
            "Dependencies installed.\n",
            "Gen RAM Free: 12.6 GB  | Proc size: 94.8 MB\n",
            "GPU RAM Free: 15109MB | Used: 0MB | Util   0% | Total 15109MB\n"
          ]
        }
      ]
    },
    {
      "metadata": {
        "id": "jtmSwsskcv6o"
      },
      "cell_type": "markdown",
      "source": [
        "# Import Packages"
      ]
    },
    {
      "metadata": {
        "id": "D5UP7Q0Xc0-H",
        "colab": {
          "base_uri": "https://localhost:8080/"
        },
        "outputId": "8156d0e9-c2eb-49d4-ddd4-bdc49580191c"
      },
      "cell_type": "code",
      "source": [
        "#@title Clone Faceswap github repository\n",
        "\n",
        "!rm -rf faceswap\n",
        "!git clone https://github.com/deepfakes/faceswap.git\n",
        "  \n",
        "# !pip install tensorflow-gpu==2.7.0\n",
        "!pip install -r faceswap/requirements/requirements_nvidia.txt\n",
        "!pip install tensorflow==2.6.0\n",
        "!pip install keras==2.6.*"
      ],
      "execution_count": null,
      "outputs": [
        {
          "output_type": "stream",
          "name": "stdout",
          "text": [
            "Cloning into 'faceswap'...\n",
            "remote: Enumerating objects: 10329, done.\u001b[K\n",
            "remote: Total 10329 (delta 0), reused 0 (delta 0), pack-reused 10329\u001b[K\n",
            "Receiving objects: 100% (10329/10329), 195.58 MiB | 35.26 MiB/s, done.\n",
            "Resolving deltas: 100% (7281/7281), done.\n",
            "Looking in indexes: https://pypi.org/simple, https://us-python.pkg.dev/colab-wheels/public/simple/\n",
            "Ignoring pywin32: markers 'sys_platform == \"win32\"' don't match your environment\n",
            "Ignoring pynvx: markers 'sys_platform == \"darwin\"' don't match your environment\n",
            "Requirement already satisfied: tqdm>=4.64 in /usr/local/lib/python3.7/dist-packages (from -r faceswap/requirements/_requirements_base.txt (line 1)) (4.64.0)\n",
            "Requirement already satisfied: psutil>=5.8.0 in /usr/local/lib/python3.7/dist-packages (from -r faceswap/requirements/_requirements_base.txt (line 2)) (5.9.1)\n",
            "Requirement already satisfied: numpy>=1.18.0 in /usr/local/lib/python3.7/dist-packages (from -r faceswap/requirements/_requirements_base.txt (line 3)) (1.19.5)\n",
            "Requirement already satisfied: opencv-python>=4.5.5.0 in /usr/local/lib/python3.7/dist-packages (from -r faceswap/requirements/_requirements_base.txt (line 4)) (4.5.5.64)\n",
            "Requirement already satisfied: pillow>=8.3.1 in /usr/local/lib/python3.7/dist-packages (from -r faceswap/requirements/_requirements_base.txt (line 5)) (9.1.1)\n",
            "Requirement already satisfied: scikit-learn>=1.0.2 in /usr/local/lib/python3.7/dist-packages (from -r faceswap/requirements/_requirements_base.txt (line 6)) (1.0.2)\n",
            "Requirement already satisfied: fastcluster>=1.2.4 in /usr/local/lib/python3.7/dist-packages (from -r faceswap/requirements/_requirements_base.txt (line 7)) (1.2.6)\n",
            "Requirement already satisfied: matplotlib>=3.5.1 in /usr/local/lib/python3.7/dist-packages (from -r faceswap/requirements/_requirements_base.txt (line 8)) (3.5.2)\n",
            "Requirement already satisfied: imageio>=2.9.0 in /usr/local/lib/python3.7/dist-packages (from -r faceswap/requirements/_requirements_base.txt (line 9)) (2.19.3)\n",
            "Requirement already satisfied: imageio-ffmpeg>=0.4.7 in /usr/local/lib/python3.7/dist-packages (from -r faceswap/requirements/_requirements_base.txt (line 10)) (0.4.7)\n",
            "Requirement already satisfied: ffmpy==0.2.3 in /usr/local/lib/python3.7/dist-packages (from -r faceswap/requirements/_requirements_base.txt (line 11)) (0.2.3)\n",
            "Requirement already satisfied: nvidia-ml-py<11.515 in /usr/local/lib/python3.7/dist-packages (from -r faceswap/requirements/_requirements_base.txt (line 15)) (11.510.69)\n",
            "Requirement already satisfied: typing-extensions in /usr/local/lib/python3.7/dist-packages (from -r faceswap/requirements/_requirements_base.txt (line 18)) (3.7.4.3)\n",
            "Requirement already satisfied: tensorflow-gpu<2.9.0,>=2.2.0 in /usr/local/lib/python3.7/dist-packages (from -r faceswap/requirements/requirements_nvidia.txt (line 2)) (2.6.0)\n",
            "Requirement already satisfied: threadpoolctl>=2.0.0 in /usr/local/lib/python3.7/dist-packages (from scikit-learn>=1.0.2->-r faceswap/requirements/_requirements_base.txt (line 6)) (3.1.0)\n",
            "Requirement already satisfied: scipy>=1.1.0 in /usr/local/lib/python3.7/dist-packages (from scikit-learn>=1.0.2->-r faceswap/requirements/_requirements_base.txt (line 6)) (1.4.1)\n",
            "Requirement already satisfied: joblib>=0.11 in /usr/local/lib/python3.7/dist-packages (from scikit-learn>=1.0.2->-r faceswap/requirements/_requirements_base.txt (line 6)) (1.1.0)\n",
            "Requirement already satisfied: packaging>=20.0 in /usr/local/lib/python3.7/dist-packages (from matplotlib>=3.5.1->-r faceswap/requirements/_requirements_base.txt (line 8)) (21.3)\n",
            "Requirement already satisfied: pyparsing>=2.2.1 in /usr/local/lib/python3.7/dist-packages (from matplotlib>=3.5.1->-r faceswap/requirements/_requirements_base.txt (line 8)) (3.0.9)\n",
            "Requirement already satisfied: kiwisolver>=1.0.1 in /usr/local/lib/python3.7/dist-packages (from matplotlib>=3.5.1->-r faceswap/requirements/_requirements_base.txt (line 8)) (1.4.2)\n",
            "Requirement already satisfied: cycler>=0.10 in /usr/local/lib/python3.7/dist-packages (from matplotlib>=3.5.1->-r faceswap/requirements/_requirements_base.txt (line 8)) (0.11.0)\n",
            "Requirement already satisfied: python-dateutil>=2.7 in /usr/local/lib/python3.7/dist-packages (from matplotlib>=3.5.1->-r faceswap/requirements/_requirements_base.txt (line 8)) (2.8.2)\n",
            "Requirement already satisfied: fonttools>=4.22.0 in /usr/local/lib/python3.7/dist-packages (from matplotlib>=3.5.1->-r faceswap/requirements/_requirements_base.txt (line 8)) (4.33.3)\n",
            "Requirement already satisfied: clang~=5.0 in /usr/local/lib/python3.7/dist-packages (from tensorflow-gpu<2.9.0,>=2.2.0->-r faceswap/requirements/requirements_nvidia.txt (line 2)) (5.0)\n",
            "Requirement already satisfied: gast==0.4.0 in /usr/local/lib/python3.7/dist-packages (from tensorflow-gpu<2.9.0,>=2.2.0->-r faceswap/requirements/requirements_nvidia.txt (line 2)) (0.4.0)\n",
            "Requirement already satisfied: keras-preprocessing~=1.1.2 in /usr/local/lib/python3.7/dist-packages (from tensorflow-gpu<2.9.0,>=2.2.0->-r faceswap/requirements/requirements_nvidia.txt (line 2)) (1.1.2)\n",
            "Requirement already satisfied: wrapt~=1.12.1 in /usr/local/lib/python3.7/dist-packages (from tensorflow-gpu<2.9.0,>=2.2.0->-r faceswap/requirements/requirements_nvidia.txt (line 2)) (1.12.1)\n",
            "Requirement already satisfied: google-pasta~=0.2 in /usr/local/lib/python3.7/dist-packages (from tensorflow-gpu<2.9.0,>=2.2.0->-r faceswap/requirements/requirements_nvidia.txt (line 2)) (0.2.0)\n",
            "Requirement already satisfied: absl-py~=0.10 in /usr/local/lib/python3.7/dist-packages (from tensorflow-gpu<2.9.0,>=2.2.0->-r faceswap/requirements/requirements_nvidia.txt (line 2)) (0.15.0)\n",
            "Requirement already satisfied: termcolor~=1.1.0 in /usr/local/lib/python3.7/dist-packages (from tensorflow-gpu<2.9.0,>=2.2.0->-r faceswap/requirements/requirements_nvidia.txt (line 2)) (1.1.0)\n",
            "Requirement already satisfied: grpcio<2.0,>=1.37.0 in /usr/local/lib/python3.7/dist-packages (from tensorflow-gpu<2.9.0,>=2.2.0->-r faceswap/requirements/requirements_nvidia.txt (line 2)) (1.46.3)\n",
            "Requirement already satisfied: h5py~=3.1.0 in /usr/local/lib/python3.7/dist-packages (from tensorflow-gpu<2.9.0,>=2.2.0->-r faceswap/requirements/requirements_nvidia.txt (line 2)) (3.1.0)\n",
            "Requirement already satisfied: wheel~=0.35 in /usr/local/lib/python3.7/dist-packages (from tensorflow-gpu<2.9.0,>=2.2.0->-r faceswap/requirements/requirements_nvidia.txt (line 2)) (0.37.1)\n",
            "Requirement already satisfied: astunparse~=1.6.3 in /usr/local/lib/python3.7/dist-packages (from tensorflow-gpu<2.9.0,>=2.2.0->-r faceswap/requirements/requirements_nvidia.txt (line 2)) (1.6.3)\n",
            "Requirement already satisfied: protobuf>=3.9.2 in /usr/local/lib/python3.7/dist-packages (from tensorflow-gpu<2.9.0,>=2.2.0->-r faceswap/requirements/requirements_nvidia.txt (line 2)) (3.17.3)\n",
            "Requirement already satisfied: keras~=2.6 in /usr/local/lib/python3.7/dist-packages (from tensorflow-gpu<2.9.0,>=2.2.0->-r faceswap/requirements/requirements_nvidia.txt (line 2)) (2.6.0)\n",
            "Requirement already satisfied: opt-einsum~=3.3.0 in /usr/local/lib/python3.7/dist-packages (from tensorflow-gpu<2.9.0,>=2.2.0->-r faceswap/requirements/requirements_nvidia.txt (line 2)) (3.3.0)\n",
            "Requirement already satisfied: flatbuffers~=1.12.0 in /usr/local/lib/python3.7/dist-packages (from tensorflow-gpu<2.9.0,>=2.2.0->-r faceswap/requirements/requirements_nvidia.txt (line 2)) (1.12)\n",
            "Requirement already satisfied: tensorflow-estimator~=2.6 in /usr/local/lib/python3.7/dist-packages (from tensorflow-gpu<2.9.0,>=2.2.0->-r faceswap/requirements/requirements_nvidia.txt (line 2)) (2.7.0)\n",
            "Requirement already satisfied: six~=1.15.0 in /usr/local/lib/python3.7/dist-packages (from tensorflow-gpu<2.9.0,>=2.2.0->-r faceswap/requirements/requirements_nvidia.txt (line 2)) (1.15.0)\n",
            "Requirement already satisfied: tensorboard~=2.6 in /usr/local/lib/python3.7/dist-packages (from tensorflow-gpu<2.9.0,>=2.2.0->-r faceswap/requirements/requirements_nvidia.txt (line 2)) (2.8.0)\n",
            "Requirement already satisfied: cached-property in /usr/local/lib/python3.7/dist-packages (from h5py~=3.1.0->tensorflow-gpu<2.9.0,>=2.2.0->-r faceswap/requirements/requirements_nvidia.txt (line 2)) (1.5.2)\n",
            "Requirement already satisfied: setuptools>=41.0.0 in /usr/local/lib/python3.7/dist-packages (from tensorboard~=2.6->tensorflow-gpu<2.9.0,>=2.2.0->-r faceswap/requirements/requirements_nvidia.txt (line 2)) (57.4.0)\n",
            "Requirement already satisfied: tensorboard-data-server<0.7.0,>=0.6.0 in /usr/local/lib/python3.7/dist-packages (from tensorboard~=2.6->tensorflow-gpu<2.9.0,>=2.2.0->-r faceswap/requirements/requirements_nvidia.txt (line 2)) (0.6.1)\n",
            "Requirement already satisfied: werkzeug>=0.11.15 in /usr/local/lib/python3.7/dist-packages (from tensorboard~=2.6->tensorflow-gpu<2.9.0,>=2.2.0->-r faceswap/requirements/requirements_nvidia.txt (line 2)) (1.0.1)\n",
            "Requirement already satisfied: tensorboard-plugin-wit>=1.6.0 in /usr/local/lib/python3.7/dist-packages (from tensorboard~=2.6->tensorflow-gpu<2.9.0,>=2.2.0->-r faceswap/requirements/requirements_nvidia.txt (line 2)) (1.8.1)\n",
            "Requirement already satisfied: markdown>=2.6.8 in /usr/local/lib/python3.7/dist-packages (from tensorboard~=2.6->tensorflow-gpu<2.9.0,>=2.2.0->-r faceswap/requirements/requirements_nvidia.txt (line 2)) (3.3.7)\n",
            "Requirement already satisfied: requests<3,>=2.21.0 in /usr/local/lib/python3.7/dist-packages (from tensorboard~=2.6->tensorflow-gpu<2.9.0,>=2.2.0->-r faceswap/requirements/requirements_nvidia.txt (line 2)) (2.23.0)\n",
            "Requirement already satisfied: google-auth<3,>=1.6.3 in /usr/local/lib/python3.7/dist-packages (from tensorboard~=2.6->tensorflow-gpu<2.9.0,>=2.2.0->-r faceswap/requirements/requirements_nvidia.txt (line 2)) (1.35.0)\n",
            "Requirement already satisfied: google-auth-oauthlib<0.5,>=0.4.1 in /usr/local/lib/python3.7/dist-packages (from tensorboard~=2.6->tensorflow-gpu<2.9.0,>=2.2.0->-r faceswap/requirements/requirements_nvidia.txt (line 2)) (0.4.6)\n",
            "Requirement already satisfied: rsa<5,>=3.1.4 in /usr/local/lib/python3.7/dist-packages (from google-auth<3,>=1.6.3->tensorboard~=2.6->tensorflow-gpu<2.9.0,>=2.2.0->-r faceswap/requirements/requirements_nvidia.txt (line 2)) (4.8)\n",
            "Requirement already satisfied: cachetools<5.0,>=2.0.0 in /usr/local/lib/python3.7/dist-packages (from google-auth<3,>=1.6.3->tensorboard~=2.6->tensorflow-gpu<2.9.0,>=2.2.0->-r faceswap/requirements/requirements_nvidia.txt (line 2)) (4.2.4)\n",
            "Requirement already satisfied: pyasn1-modules>=0.2.1 in /usr/local/lib/python3.7/dist-packages (from google-auth<3,>=1.6.3->tensorboard~=2.6->tensorflow-gpu<2.9.0,>=2.2.0->-r faceswap/requirements/requirements_nvidia.txt (line 2)) (0.2.8)\n",
            "Requirement already satisfied: requests-oauthlib>=0.7.0 in /usr/local/lib/python3.7/dist-packages (from google-auth-oauthlib<0.5,>=0.4.1->tensorboard~=2.6->tensorflow-gpu<2.9.0,>=2.2.0->-r faceswap/requirements/requirements_nvidia.txt (line 2)) (1.3.1)\n",
            "Requirement already satisfied: importlib-metadata>=4.4 in /usr/local/lib/python3.7/dist-packages (from markdown>=2.6.8->tensorboard~=2.6->tensorflow-gpu<2.9.0,>=2.2.0->-r faceswap/requirements/requirements_nvidia.txt (line 2)) (4.11.4)\n",
            "Requirement already satisfied: zipp>=0.5 in /usr/local/lib/python3.7/dist-packages (from importlib-metadata>=4.4->markdown>=2.6.8->tensorboard~=2.6->tensorflow-gpu<2.9.0,>=2.2.0->-r faceswap/requirements/requirements_nvidia.txt (line 2)) (3.8.0)\n",
            "Requirement already satisfied: pyasn1<0.5.0,>=0.4.6 in /usr/local/lib/python3.7/dist-packages (from pyasn1-modules>=0.2.1->google-auth<3,>=1.6.3->tensorboard~=2.6->tensorflow-gpu<2.9.0,>=2.2.0->-r faceswap/requirements/requirements_nvidia.txt (line 2)) (0.4.8)\n",
            "Requirement already satisfied: idna<3,>=2.5 in /usr/local/lib/python3.7/dist-packages (from requests<3,>=2.21.0->tensorboard~=2.6->tensorflow-gpu<2.9.0,>=2.2.0->-r faceswap/requirements/requirements_nvidia.txt (line 2)) (2.10)\n",
            "Requirement already satisfied: urllib3!=1.25.0,!=1.25.1,<1.26,>=1.21.1 in /usr/local/lib/python3.7/dist-packages (from requests<3,>=2.21.0->tensorboard~=2.6->tensorflow-gpu<2.9.0,>=2.2.0->-r faceswap/requirements/requirements_nvidia.txt (line 2)) (1.24.3)\n",
            "Requirement already satisfied: certifi>=2017.4.17 in /usr/local/lib/python3.7/dist-packages (from requests<3,>=2.21.0->tensorboard~=2.6->tensorflow-gpu<2.9.0,>=2.2.0->-r faceswap/requirements/requirements_nvidia.txt (line 2)) (2022.5.18.1)\n",
            "Requirement already satisfied: chardet<4,>=3.0.2 in /usr/local/lib/python3.7/dist-packages (from requests<3,>=2.21.0->tensorboard~=2.6->tensorflow-gpu<2.9.0,>=2.2.0->-r faceswap/requirements/requirements_nvidia.txt (line 2)) (3.0.4)\n",
            "Requirement already satisfied: oauthlib>=3.0.0 in /usr/local/lib/python3.7/dist-packages (from requests-oauthlib>=0.7.0->google-auth-oauthlib<0.5,>=0.4.1->tensorboard~=2.6->tensorflow-gpu<2.9.0,>=2.2.0->-r faceswap/requirements/requirements_nvidia.txt (line 2)) (3.2.0)\n",
            "Looking in indexes: https://pypi.org/simple, https://us-python.pkg.dev/colab-wheels/public/simple/\n",
            "Collecting tensorflow==2.6.0\n",
            "  Downloading https://us-python.pkg.dev/colab-wheels/public/tensorflow/tensorflow-2.6.0%2Bzzzcolab20220506153740-cp37-cp37m-linux_x86_64.whl\n",
            "\u001b[K     | 564.4 MB 139.5 MB/s\n",
            "\u001b[?25hRequirement already satisfied: opt-einsum~=3.3.0 in /usr/local/lib/python3.7/dist-packages (from tensorflow==2.6.0) (3.3.0)\n",
            "Requirement already satisfied: termcolor~=1.1.0 in /usr/local/lib/python3.7/dist-packages (from tensorflow==2.6.0) (1.1.0)\n",
            "Requirement already satisfied: six~=1.15.0 in /usr/local/lib/python3.7/dist-packages (from tensorflow==2.6.0) (1.15.0)\n",
            "Requirement already satisfied: numpy~=1.19.2 in /usr/local/lib/python3.7/dist-packages (from tensorflow==2.6.0) (1.19.5)\n",
            "Requirement already satisfied: flatbuffers~=1.12.0 in /usr/local/lib/python3.7/dist-packages (from tensorflow==2.6.0) (1.12)\n",
            "Requirement already satisfied: h5py~=3.1.0 in /usr/local/lib/python3.7/dist-packages (from tensorflow==2.6.0) (3.1.0)\n",
            "Requirement already satisfied: google-pasta~=0.2 in /usr/local/lib/python3.7/dist-packages (from tensorflow==2.6.0) (0.2.0)\n",
            "Requirement already satisfied: astunparse~=1.6.3 in /usr/local/lib/python3.7/dist-packages (from tensorflow==2.6.0) (1.6.3)\n",
            "Requirement already satisfied: gast==0.4.0 in /usr/local/lib/python3.7/dist-packages (from tensorflow==2.6.0) (0.4.0)\n",
            "Requirement already satisfied: absl-py~=0.10 in /usr/local/lib/python3.7/dist-packages (from tensorflow==2.6.0) (0.15.0)\n",
            "Requirement already satisfied: typing-extensions~=3.7.4 in /usr/local/lib/python3.7/dist-packages (from tensorflow==2.6.0) (3.7.4.3)\n",
            "Requirement already satisfied: tensorboard~=2.6 in /usr/local/lib/python3.7/dist-packages (from tensorflow==2.6.0) (2.8.0)\n",
            "Requirement already satisfied: grpcio<2.0,>=1.37.0 in /usr/local/lib/python3.7/dist-packages (from tensorflow==2.6.0) (1.46.3)\n",
            "Requirement already satisfied: clang~=5.0 in /usr/local/lib/python3.7/dist-packages (from tensorflow==2.6.0) (5.0)\n",
            "Requirement already satisfied: keras~=2.6 in /usr/local/lib/python3.7/dist-packages (from tensorflow==2.6.0) (2.6.0)\n",
            "Requirement already satisfied: keras-preprocessing~=1.1.2 in /usr/local/lib/python3.7/dist-packages (from tensorflow==2.6.0) (1.1.2)\n",
            "Requirement already satisfied: wheel~=0.35 in /usr/local/lib/python3.7/dist-packages (from tensorflow==2.6.0) (0.37.1)\n",
            "Requirement already satisfied: protobuf>=3.9.2 in /usr/local/lib/python3.7/dist-packages (from tensorflow==2.6.0) (3.17.3)\n",
            "Requirement already satisfied: wrapt~=1.12.1 in /usr/local/lib/python3.7/dist-packages (from tensorflow==2.6.0) (1.12.1)\n",
            "Requirement already satisfied: tensorflow-estimator~=2.6 in /usr/local/lib/python3.7/dist-packages (from tensorflow==2.6.0) (2.7.0)\n",
            "Requirement already satisfied: cached-property in /usr/local/lib/python3.7/dist-packages (from h5py~=3.1.0->tensorflow==2.6.0) (1.5.2)\n",
            "Requirement already satisfied: markdown>=2.6.8 in /usr/local/lib/python3.7/dist-packages (from tensorboard~=2.6->tensorflow==2.6.0) (3.3.7)\n",
            "Requirement already satisfied: setuptools>=41.0.0 in /usr/local/lib/python3.7/dist-packages (from tensorboard~=2.6->tensorflow==2.6.0) (57.4.0)\n",
            "Requirement already satisfied: google-auth<3,>=1.6.3 in /usr/local/lib/python3.7/dist-packages (from tensorboard~=2.6->tensorflow==2.6.0) (1.35.0)\n",
            "Requirement already satisfied: tensorboard-plugin-wit>=1.6.0 in /usr/local/lib/python3.7/dist-packages (from tensorboard~=2.6->tensorflow==2.6.0) (1.8.1)\n",
            "Requirement already satisfied: tensorboard-data-server<0.7.0,>=0.6.0 in /usr/local/lib/python3.7/dist-packages (from tensorboard~=2.6->tensorflow==2.6.0) (0.6.1)\n",
            "Requirement already satisfied: requests<3,>=2.21.0 in /usr/local/lib/python3.7/dist-packages (from tensorboard~=2.6->tensorflow==2.6.0) (2.23.0)\n",
            "Requirement already satisfied: werkzeug>=0.11.15 in /usr/local/lib/python3.7/dist-packages (from tensorboard~=2.6->tensorflow==2.6.0) (1.0.1)\n",
            "Requirement already satisfied: google-auth-oauthlib<0.5,>=0.4.1 in /usr/local/lib/python3.7/dist-packages (from tensorboard~=2.6->tensorflow==2.6.0) (0.4.6)\n",
            "Requirement already satisfied: rsa<5,>=3.1.4 in /usr/local/lib/python3.7/dist-packages (from google-auth<3,>=1.6.3->tensorboard~=2.6->tensorflow==2.6.0) (4.8)\n",
            "Requirement already satisfied: cachetools<5.0,>=2.0.0 in /usr/local/lib/python3.7/dist-packages (from google-auth<3,>=1.6.3->tensorboard~=2.6->tensorflow==2.6.0) (4.2.4)\n",
            "Requirement already satisfied: pyasn1-modules>=0.2.1 in /usr/local/lib/python3.7/dist-packages (from google-auth<3,>=1.6.3->tensorboard~=2.6->tensorflow==2.6.0) (0.2.8)\n",
            "Requirement already satisfied: requests-oauthlib>=0.7.0 in /usr/local/lib/python3.7/dist-packages (from google-auth-oauthlib<0.5,>=0.4.1->tensorboard~=2.6->tensorflow==2.6.0) (1.3.1)\n",
            "Requirement already satisfied: importlib-metadata>=4.4 in /usr/local/lib/python3.7/dist-packages (from markdown>=2.6.8->tensorboard~=2.6->tensorflow==2.6.0) (4.11.4)\n",
            "Requirement already satisfied: zipp>=0.5 in /usr/local/lib/python3.7/dist-packages (from importlib-metadata>=4.4->markdown>=2.6.8->tensorboard~=2.6->tensorflow==2.6.0) (3.8.0)\n",
            "Requirement already satisfied: pyasn1<0.5.0,>=0.4.6 in /usr/local/lib/python3.7/dist-packages (from pyasn1-modules>=0.2.1->google-auth<3,>=1.6.3->tensorboard~=2.6->tensorflow==2.6.0) (0.4.8)\n",
            "Requirement already satisfied: certifi>=2017.4.17 in /usr/local/lib/python3.7/dist-packages (from requests<3,>=2.21.0->tensorboard~=2.6->tensorflow==2.6.0) (2022.5.18.1)\n",
            "Requirement already satisfied: idna<3,>=2.5 in /usr/local/lib/python3.7/dist-packages (from requests<3,>=2.21.0->tensorboard~=2.6->tensorflow==2.6.0) (2.10)\n",
            "Requirement already satisfied: urllib3!=1.25.0,!=1.25.1,<1.26,>=1.21.1 in /usr/local/lib/python3.7/dist-packages (from requests<3,>=2.21.0->tensorboard~=2.6->tensorflow==2.6.0) (1.24.3)\n",
            "Requirement already satisfied: chardet<4,>=3.0.2 in /usr/local/lib/python3.7/dist-packages (from requests<3,>=2.21.0->tensorboard~=2.6->tensorflow==2.6.0) (3.0.4)\n",
            "Requirement already satisfied: oauthlib>=3.0.0 in /usr/local/lib/python3.7/dist-packages (from requests-oauthlib>=0.7.0->google-auth-oauthlib<0.5,>=0.4.1->tensorboard~=2.6->tensorflow==2.6.0) (3.2.0)\n",
            "Installing collected packages: tensorflow\n",
            "  Attempting uninstall: tensorflow\n",
            "    Found existing installation: tensorflow 2.8.2+zzzcolab20220527125636\n",
            "    Uninstalling tensorflow-2.8.2+zzzcolab20220527125636:\n",
            "      Successfully uninstalled tensorflow-2.8.2+zzzcolab20220527125636\n",
            "Successfully installed tensorflow-2.6.0+zzzcolab20220506153740\n",
            "Looking in indexes: https://pypi.org/simple, https://us-python.pkg.dev/colab-wheels/public/simple/\n",
            "Requirement already satisfied: keras==2.6.* in /usr/local/lib/python3.7/dist-packages (2.6.0)\n"
          ]
        }
      ]
    },
    {
      "metadata": {
        "id": "DbohDTynPjaP"
      },
      "cell_type": "markdown",
      "source": [
        "# Mount Google Drive folders\n",
        "---\n",
        "\n",
        "Run and paste the code account code\n",
        "\n"
      ]
    },
    {
      "metadata": {
        "id": "KFvh38VHPoxl",
        "colab": {
          "base_uri": "https://localhost:8080/"
        },
        "outputId": "c16ba3f7-3458-4c9a-afcc-3608212fdd9f"
      },
      "cell_type": "code",
      "source": [
        "#@title Mount Google Drive only\n",
        "\n",
        "from google.colab import drive\n",
        "drive.mount('/content/drive', force_remount=True)"
      ],
      "execution_count": null,
      "outputs": [
        {
          "output_type": "stream",
          "name": "stdout",
          "text": [
            "Mounted at /content/drive\n"
          ]
        }
      ]
    },
    {
      "cell_type": "code",
      "source": [
        "! nvidia-smi"
      ],
      "metadata": {
        "colab": {
          "base_uri": "https://localhost:8080/"
        },
        "id": "Z2nYNiWq1Crg",
        "outputId": "7bba028e-882f-4fa2-abbc-38b87a4021bc"
      },
      "execution_count": null,
      "outputs": [
        {
          "output_type": "stream",
          "name": "stdout",
          "text": [
            "Sat Jun  4 23:42:02 2022       \n",
            "+-----------------------------------------------------------------------------+\n",
            "| NVIDIA-SMI 460.32.03    Driver Version: 460.32.03    CUDA Version: 11.2     |\n",
            "|-------------------------------+----------------------+----------------------+\n",
            "| GPU  Name        Persistence-M| Bus-Id        Disp.A | Volatile Uncorr. ECC |\n",
            "| Fan  Temp  Perf  Pwr:Usage/Cap|         Memory-Usage | GPU-Util  Compute M. |\n",
            "|                               |                      |               MIG M. |\n",
            "|===============================+======================+======================|\n",
            "|   0  Tesla T4            Off  | 00000000:00:04.0 Off |                    0 |\n",
            "| N/A   33C    P8     8W /  70W |      0MiB / 15109MiB |      0%      Default |\n",
            "|                               |                      |                  N/A |\n",
            "+-------------------------------+----------------------+----------------------+\n",
            "                                                                               \n",
            "+-----------------------------------------------------------------------------+\n",
            "| Processes:                                                                  |\n",
            "|  GPU   GI   CI        PID   Type   Process name                  GPU Memory |\n",
            "|        ID   ID                                                   Usage      |\n",
            "|=============================================================================|\n",
            "|  No running processes found                                                 |\n",
            "+-----------------------------------------------------------------------------+\n"
          ]
        }
      ]
    },
    {
      "metadata": {
        "id": "-nPdeX6cBUP2"
      },
      "cell_type": "markdown",
      "source": [
        "# Load local files upload\n"
      ]
    },
    {
      "metadata": {
        "id": "1S-bXDMFBZbT",
        "colab": {
          "resources": {
            "http://localhost:8080/nbextensions/google.colab/files.js": {
              "data": "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",
              "ok": true,
              "headers": [
                [
                  "content-type",
                  "application/javascript"
                ]
              ],
              "status": 200,
              "status_text": ""
            }
          },
          "base_uri": "https://localhost:8080/",
          "height": 431
        },
        "outputId": "d6f71e62-7320-49c3-a43d-00c418eac31a"
      },
      "cell_type": "code",
      "source": [
        "from google.colab import files\n",
        "import os\n",
        "\n",
        "local_download_path = os.path.expanduser('~/face1')\n",
        "try:\n",
        "  os.makedirs(local_download_path)\n",
        "except: pass\n",
        "!cd face1\n",
        "\n",
        "uploaded = files.upload()\n",
        "\n",
        "for fn in uploaded.keys():\n",
        "  print('User uploaded file \"{name}\" with length {length} bytes'.format(\n",
        "      name=fn, length=len(uploaded[fn])))\n",
        "#!bash -c 'mv *.zip /content/face1'\n",
        "!unzip set.zip -d face1\n",
        "!rm set.zip\n",
        "!ls face1\n"
      ],
      "execution_count": null,
      "outputs": [
        {
          "output_type": "stream",
          "name": "stdout",
          "text": [
            "/bin/bash: line 0: cd: face1: No such file or directory\n"
          ]
        },
        {
          "output_type": "display_data",
          "data": {
            "text/plain": [
              "<IPython.core.display.HTML object>"
            ],
            "text/html": [
              "\n",
              "     <input type=\"file\" id=\"files-0ec05e04-6743-4e30-beb2-6de6a5e27a0c\" name=\"files[]\" multiple disabled\n",
              "        style=\"border:none\" />\n",
              "     <output id=\"result-0ec05e04-6743-4e30-beb2-6de6a5e27a0c\">\n",
              "      Upload widget is only available when the cell has been executed in the\n",
              "      current browser session. Please rerun this cell to enable.\n",
              "      </output>\n",
              "      <script src=\"/nbextensions/google.colab/files.js\"></script> "
            ]
          },
          "metadata": {}
        },
        {
          "output_type": "error",
          "ename": "KeyboardInterrupt",
          "evalue": "ignored",
          "traceback": [
            "\u001b[0;31m---------------------------------------------------------------------------\u001b[0m",
            "\u001b[0;31mKeyboardInterrupt\u001b[0m                         Traceback (most recent call last)",
            "\u001b[0;32m<ipython-input-4-24b693a7367a>\u001b[0m in \u001b[0;36m<module>\u001b[0;34m()\u001b[0m\n\u001b[1;32m      8\u001b[0m \u001b[0mget_ipython\u001b[0m\u001b[0;34m(\u001b[0m\u001b[0;34m)\u001b[0m\u001b[0;34m.\u001b[0m\u001b[0msystem\u001b[0m\u001b[0;34m(\u001b[0m\u001b[0;34m'cd face1'\u001b[0m\u001b[0;34m)\u001b[0m\u001b[0;34m\u001b[0m\u001b[0;34m\u001b[0m\u001b[0m\n\u001b[1;32m      9\u001b[0m \u001b[0;34m\u001b[0m\u001b[0m\n\u001b[0;32m---> 10\u001b[0;31m \u001b[0muploaded\u001b[0m \u001b[0;34m=\u001b[0m \u001b[0mfiles\u001b[0m\u001b[0;34m.\u001b[0m\u001b[0mupload\u001b[0m\u001b[0;34m(\u001b[0m\u001b[0;34m)\u001b[0m\u001b[0;34m\u001b[0m\u001b[0;34m\u001b[0m\u001b[0m\n\u001b[0m\u001b[1;32m     11\u001b[0m \u001b[0;34m\u001b[0m\u001b[0m\n\u001b[1;32m     12\u001b[0m \u001b[0;32mfor\u001b[0m \u001b[0mfn\u001b[0m \u001b[0;32min\u001b[0m \u001b[0muploaded\u001b[0m\u001b[0;34m.\u001b[0m\u001b[0mkeys\u001b[0m\u001b[0;34m(\u001b[0m\u001b[0;34m)\u001b[0m\u001b[0;34m:\u001b[0m\u001b[0;34m\u001b[0m\u001b[0;34m\u001b[0m\u001b[0m\n",
            "\u001b[0;32m/usr/local/lib/python3.7/dist-packages/google/colab/files.py\u001b[0m in \u001b[0;36mupload\u001b[0;34m()\u001b[0m\n\u001b[1;32m     44\u001b[0m   \"\"\"\n\u001b[1;32m     45\u001b[0m \u001b[0;34m\u001b[0m\u001b[0m\n\u001b[0;32m---> 46\u001b[0;31m   \u001b[0muploaded_files\u001b[0m \u001b[0;34m=\u001b[0m \u001b[0m_upload_files\u001b[0m\u001b[0;34m(\u001b[0m\u001b[0mmultiple\u001b[0m\u001b[0;34m=\u001b[0m\u001b[0;32mTrue\u001b[0m\u001b[0;34m)\u001b[0m\u001b[0;34m\u001b[0m\u001b[0;34m\u001b[0m\u001b[0m\n\u001b[0m\u001b[1;32m     47\u001b[0m   \u001b[0;31m# Mapping from original filename to filename as saved locally.\u001b[0m\u001b[0;34m\u001b[0m\u001b[0;34m\u001b[0m\u001b[0;34m\u001b[0m\u001b[0m\n\u001b[1;32m     48\u001b[0m   \u001b[0mlocal_filenames\u001b[0m \u001b[0;34m=\u001b[0m \u001b[0mdict\u001b[0m\u001b[0;34m(\u001b[0m\u001b[0;34m)\u001b[0m\u001b[0;34m\u001b[0m\u001b[0;34m\u001b[0m\u001b[0m\n",
            "\u001b[0;32m/usr/local/lib/python3.7/dist-packages/google/colab/files.py\u001b[0m in \u001b[0;36m_upload_files\u001b[0;34m(multiple)\u001b[0m\n\u001b[1;32m    121\u001b[0m   result = _output.eval_js(\n\u001b[1;32m    122\u001b[0m       'google.colab._files._uploadFiles(\"{input_id}\", \"{output_id}\")'.format(\n\u001b[0;32m--> 123\u001b[0;31m           input_id=input_id, output_id=output_id))\n\u001b[0m\u001b[1;32m    124\u001b[0m   \u001b[0mfiles\u001b[0m \u001b[0;34m=\u001b[0m \u001b[0m_collections\u001b[0m\u001b[0;34m.\u001b[0m\u001b[0mdefaultdict\u001b[0m\u001b[0;34m(\u001b[0m\u001b[0m_six\u001b[0m\u001b[0;34m.\u001b[0m\u001b[0mbinary_type\u001b[0m\u001b[0;34m)\u001b[0m\u001b[0;34m\u001b[0m\u001b[0;34m\u001b[0m\u001b[0m\n\u001b[1;32m    125\u001b[0m \u001b[0;34m\u001b[0m\u001b[0m\n",
            "\u001b[0;32m/usr/local/lib/python3.7/dist-packages/google/colab/output/_js.py\u001b[0m in \u001b[0;36meval_js\u001b[0;34m(script, ignore_result, timeout_sec)\u001b[0m\n\u001b[1;32m     38\u001b[0m   \u001b[0;32mif\u001b[0m \u001b[0mignore_result\u001b[0m\u001b[0;34m:\u001b[0m\u001b[0;34m\u001b[0m\u001b[0;34m\u001b[0m\u001b[0m\n\u001b[1;32m     39\u001b[0m     \u001b[0;32mreturn\u001b[0m\u001b[0;34m\u001b[0m\u001b[0;34m\u001b[0m\u001b[0m\n\u001b[0;32m---> 40\u001b[0;31m   \u001b[0;32mreturn\u001b[0m \u001b[0m_message\u001b[0m\u001b[0;34m.\u001b[0m\u001b[0mread_reply_from_input\u001b[0m\u001b[0;34m(\u001b[0m\u001b[0mrequest_id\u001b[0m\u001b[0;34m,\u001b[0m \u001b[0mtimeout_sec\u001b[0m\u001b[0;34m)\u001b[0m\u001b[0;34m\u001b[0m\u001b[0;34m\u001b[0m\u001b[0m\n\u001b[0m\u001b[1;32m     41\u001b[0m \u001b[0;34m\u001b[0m\u001b[0m\n\u001b[1;32m     42\u001b[0m \u001b[0;34m\u001b[0m\u001b[0m\n",
            "\u001b[0;32m/usr/local/lib/python3.7/dist-packages/google/colab/_message.py\u001b[0m in \u001b[0;36mread_reply_from_input\u001b[0;34m(message_id, timeout_sec)\u001b[0m\n\u001b[1;32m     99\u001b[0m     \u001b[0mreply\u001b[0m \u001b[0;34m=\u001b[0m \u001b[0m_read_next_input_message\u001b[0m\u001b[0;34m(\u001b[0m\u001b[0;34m)\u001b[0m\u001b[0;34m\u001b[0m\u001b[0;34m\u001b[0m\u001b[0m\n\u001b[1;32m    100\u001b[0m     \u001b[0;32mif\u001b[0m \u001b[0mreply\u001b[0m \u001b[0;34m==\u001b[0m \u001b[0m_NOT_READY\u001b[0m \u001b[0;32mor\u001b[0m \u001b[0;32mnot\u001b[0m \u001b[0misinstance\u001b[0m\u001b[0;34m(\u001b[0m\u001b[0mreply\u001b[0m\u001b[0;34m,\u001b[0m \u001b[0mdict\u001b[0m\u001b[0;34m)\u001b[0m\u001b[0;34m:\u001b[0m\u001b[0;34m\u001b[0m\u001b[0;34m\u001b[0m\u001b[0m\n\u001b[0;32m--> 101\u001b[0;31m       \u001b[0mtime\u001b[0m\u001b[0;34m.\u001b[0m\u001b[0msleep\u001b[0m\u001b[0;34m(\u001b[0m\u001b[0;36m0.025\u001b[0m\u001b[0;34m)\u001b[0m\u001b[0;34m\u001b[0m\u001b[0;34m\u001b[0m\u001b[0m\n\u001b[0m\u001b[1;32m    102\u001b[0m       \u001b[0;32mcontinue\u001b[0m\u001b[0;34m\u001b[0m\u001b[0;34m\u001b[0m\u001b[0m\n\u001b[1;32m    103\u001b[0m     if (reply.get('type') == 'colab_reply' and\n",
            "\u001b[0;31mKeyboardInterrupt\u001b[0m: "
          ]
        }
      ]
    },
    {
      "cell_type": "code",
      "source": [
        "!/opt/bin/nvidia-smi"
      ],
      "metadata": {
        "id": "Mqg9DpKmvscN"
      },
      "execution_count": null,
      "outputs": []
    },
    {
      "metadata": {
        "id": "Lq7c1Xq0LAyL"
      },
      "cell_type": "code",
      "source": [
        "from google.colab import files\n",
        "import os\n",
        "\n",
        "!rm -rf face2\n",
        "local_download_path = os.path.expanduser('~/face2')\n",
        "try:\n",
        "  os.makedirs(local_download_path)\n",
        "except: pass\n",
        "\n",
        "uploaded = files.upload()\n",
        "\n",
        "for fn in uploaded.keys():\n",
        "  print('User uploaded file \"{name}\" with length {length} bytes'.format(\n",
        "      name=fn, length=len(uploaded[fn])))\n",
        "#!bash -c 'mv *.jpg /content/face2'\n",
        "\n",
        "!unzip set.zip -d face2\n",
        "!rm set.zip\n",
        "\n",
        "!ls face2"
      ],
      "execution_count": null,
      "outputs": []
    },
    {
      "metadata": {
        "id": "jdEs482GymvT"
      },
      "cell_type": "code",
      "source": [
        "from google.colab import files\n",
        "import os\n",
        "\n",
        "!rm originalHighRes.zip\n",
        "local_download_path = os.path.expanduser('~/models')\n",
        "try:\n",
        "  os.makedirs(local_download_path)\n",
        "except: pass\n",
        "#!cd models\n",
        "\n",
        "uploaded = files.upload()\n",
        "\n",
        "for fn in uploaded.keys():\n",
        "  print('User uploaded file \"{name}\" with length {length} bytes'.format(\n",
        "      name=fn, length=len(uploaded[fn])))\n",
        "!unzip models.zip -d models\n",
        "!rm models.zip\n",
        "!ls models"
      ],
      "execution_count": null,
      "outputs": []
    },
    {
      "metadata": {
        "id": "48JERJbsTwS8"
      },
      "cell_type": "markdown",
      "source": [
        "# Faceswap Training\n"
      ]
    },
    {
      "metadata": {
        "id": "H5qMvYA7YHjV"
      },
      "cell_type": "code",
      "source": [
        "#Threading stuff stolen from: \n",
        "# https://stackoverflow.com/questions/32081926/a-new-thread-for-running-a-cell-in-ipython-jupyter-notebook\n",
        "\n",
        "from time import sleep,time\n",
        "from IPython.display import display,HTML\n",
        "import base64\n",
        "from threading import Thread\n",
        "\n",
        "# new faceswap version\n",
        "image_path = \"faceswap/training_preview.jpg\"\n",
        "\n",
        "# old faceswap\n",
        "#image_path = \"faceswap/_sample_training.jpg\"\n",
        "#image_path = \"faceswap/_sample_training using <OriginalHighRes: v=2.7, enc=ORIGINAL, encoder_dim=1024, img_shape=128x128>, bs=16.jpg\"\n",
        "!touch '{image_path}'\n",
        "\n",
        "class PreviewImg:\n",
        "  def __init__(self):\n",
        "    self.cancel = False\n",
        "    self.fig = display(HTML('<img src=\"https://dummyimage.com/1024x618/000/ffffff&text=Preview+Loading...\" />'), display_id=True)\n",
        "    print(\"Created display.\")\n",
        "  \n",
        "  def update(self):\n",
        "    print(\"Updating display.\")\n",
        "    with open(image_path, 'rb') as image:\n",
        "      encoded = str(base64.b64encode(image.read()))[2:-1]\n",
        "      self.fig.update(HTML('<img src=\"data:image/jpg;base64,' + encoded + '\" width=\"1024\" height=\"618\" />'))\n",
        "      # print(\"Updated display.\")\n",
        "    \n",
        "  def task(self):\n",
        "    while not self.cancel:\n",
        "      sleep(5 * 60) #Every 5 minutes.\n",
        "      if not self.fig:\n",
        "        print(\"Figure doesn't exist.\")\n",
        "        break\n",
        "      self.update()"
      ],
      "execution_count": null,
      "outputs": []
    },
    {
      "metadata": {
        "id": "UHWQtYhvOMPE"
      },
      "cell_type": "code",
      "source": [
        "!echo \"Preview image size is reduced 3 times right click and save the image to view it in full size\"\n",
        "\n",
        "prev_img = PreviewImg()\n",
        "thread = Thread(target=prev_img.task)\n",
        "thread.start()\n",
        "\n",
        "!python3 faceswap/faceswap.py train -A '/content/drive/My Drive/d' -B '/content/drive/My Drive/d' -m '/content/drive/My Drive/model' -t 'villain' -bs 16 -s 250 -w -nl"
      ],
      "execution_count": null,
      "outputs": []
    },
    {
      "metadata": {
        "id": "CoxsqJeCT0hT"
      },
      "cell_type": "code",
      "source": [
        "# uncomment if you have local models or files/commented are examples\n",
        "# first line display contents of the folder models orther lines are for downloads\n",
        "\n",
        "# !ls models\n",
        "# files.download('models/decoder_A.h5')\n",
        "# files.download('models/decoder_B.h5')\n",
        "# files.download('models/encoder.h5')\n",
        "# files.download('models/decoder_A.h5.bk')\n",
        "# files.download('models/decoder_B.h5.bk')\n",
        "# files.download('models/encoder.h5.bk')"
      ],
      "execution_count": null,
      "outputs": []
    },
    {
      "metadata": {
        "id": "9WdKagHJ3m1y"
      },
      "cell_type": "code",
      "source": [
        "# Shows traning config file\n",
        "# Paste to cell under and run to reset the config\n",
        "!cat faceswap/config/train.ini"
      ],
      "execution_count": null,
      "outputs": []
    },
    {
      "metadata": {
        "id": "2S1oZA2yhlaA"
      },
      "cell_type": "code",
      "source": [
        "# Run to update the model config file\n",
        "\n",
        "config = \"\"\"\n",
        "[global]\n",
        "# OPTIONS THAT APPLY TO ALL MODELS\n",
        "\n",
        "# Use ICNR Kernel Initializer for upscaling.\n",
        "# This can help reduce the 'checkerboard effect' when upscaling the image.\n",
        "# Choose from: True, False\n",
        "# [Default: False]\n",
        "icnr_init = False\n",
        "\n",
        "# Use subpixel upscaling rather than pixel shuffler.\n",
        "# Might increase speed at cost of VRAM\n",
        "# Choose from: True, False\n",
        "# [Default: False]\n",
        "subpixel_upscaling = False\n",
        "\n",
        "# Use reflect padding rather than zero padding.\n",
        "# Choose from: True, False\n",
        "# [Default: False]\n",
        "reflect_padding = False\n",
        "\n",
        "# If using a mask, Use DSSIM loss for Mask training rather than Mean Absolute Error\n",
        "# May increase overall quality.\n",
        "# Choose from: True, False\n",
        "# [Default: True]\n",
        "dssim_mask_loss = True\n",
        "\n",
        "# If using a mask, Use Penalized loss for Mask training. Can stack with DSSIM.\n",
        "# May increase overall quality.\n",
        "# Choose from: True, False\n",
        "# [Default: True]\n",
        "penalized_mask_loss = True\n",
        "\n",
        "[model.dfaker]\n",
        "# DFAKER MODEL (ADAPTED FROM HTTPS://GITHUB.COM/DFAKER/DF)\n",
        "\n",
        "# The mask to be used for training. Select none to not use a mask\n",
        "# Choose from: ['none', 'dfaker', 'dfl_full']\n",
        "# [Default: dfaker]\n",
        "mask_type = dfaker\n",
        "\n",
        "# How much of the extracted image to train on. Generally the model is optimized\n",
        "# to the default value. Sensible values to use are:\n",
        "# \t62.5%% spans from eyebrow to eyebrow.\n",
        "# \t75.0%% spans from temple to temple.\n",
        "# \t87.5%% spans from ear to ear.\n",
        "# \t100.0%% is a mugshot.\n",
        "# Select a decimal number between 62.5 and 100.0\n",
        "# [Default: 100.0]\n",
        "coverage = 100.0\n",
        "\n",
        "[model.dfl_h128]\n",
        "# DFL H128 MODEL (ADAPTED FROM HTTPS://GITHUB.COM/IPEROV/DEEPFACELAB)\n",
        "\n",
        "# Lower memory mode. Set to 'True' if having issues with VRAM useage.\n",
        "# NB: Models with a changed lowmem mode are not compatible with each other.\n",
        "# Choose from: True, False\n",
        "# [Default: False]\n",
        "lowmem = False\n",
        "\n",
        "# The mask to be used for training. Select none to not use a mask\n",
        "# Choose from: ['none', 'dfaker', 'dfl_full']\n",
        "# [Default: dfl_full]\n",
        "mask_type = dfl_full\n",
        "\n",
        "# How much of the extracted image to train on. Generally the model is optimized\n",
        "# to the default value. Sensible values to use are:\n",
        "# \t62.5%% spans from eyebrow to eyebrow.\n",
        "# \t75.0%% spans from temple to temple.\n",
        "# \t87.5%% spans from ear to ear.\n",
        "# \t100.0%% is a mugshot.\n",
        "# Select a decimal number between 62.5 and 100.0\n",
        "# [Default: 62.5]\n",
        "coverage = 69\n",
        "\n",
        "[model.iae]\n",
        "# INTERMEDIATE AUTO ENCODER. BASED ON ORIGINAL MODEL, USES INTERMEDIATE LAYERS TO TRY TO BETTER GET DETAILS\n",
        "\n",
        "# Use DSSIM for Loss rather than Mean Absolute Error\n",
        "# May increase overall quality.\n",
        "# Choose from: True, False\n",
        "# [Default: False]\n",
        "dssim_loss = False\n",
        "\n",
        "# The mask to be used for training. Select none to not use a mask\n",
        "# Choose from: ['none', 'dfaker', 'dfl_full']\n",
        "# [Default: none]\n",
        "mask_type = none\n",
        "\n",
        "# How much of the extracted image to train on. Generally the model is optimized\n",
        "# to the default value. Sensible values to use are:\n",
        "# \t62.5%% spans from eyebrow to eyebrow.\n",
        "# \t75.0%% spans from temple to temple.\n",
        "# \t87.5%% spans from ear to ear.\n",
        "# \t100.0%% is a mugshot.\n",
        "# Select a decimal number between 62.5 and 100.0\n",
        "# [Default: 62.5]\n",
        "coverage = 62.5\n",
        "\n",
        "[model.original]\n",
        "# ORIGINAL FACESWAP MODEL\n",
        "\n",
        "# Lower memory mode. Set to 'True' if having issues with VRAM useage.\n",
        "# NB: Models with a changed lowmem mode are not compatible with each other.\n",
        "# Choose from: True, False\n",
        "# [Default: False]\n",
        "lowmem = False\n",
        "\n",
        "# Use DSSIM for Loss rather than Mean Absolute Error\n",
        "# May increase overall quality.\n",
        "# Choose from: True, False\n",
        "# [Default: False]\n",
        "dssim_loss = False\n",
        "\n",
        "# The mask to be used for training. Select none to not use a mask\n",
        "# Choose from: ['none', 'dfaker', 'dfl_full']\n",
        "# [Default: none]\n",
        "mask_type = none\n",
        "\n",
        "# How much of the extracted image to train on. Generally the model is optimized\n",
        "# to the default value. Sensible values to use are:\n",
        "# \t62.5%% spans from eyebrow to eyebrow.\n",
        "# \t75.0%% spans from temple to temple.\n",
        "# \t87.5%% spans from ear to ear.\n",
        "# \t100.0%% is a mugshot.\n",
        "# Select a decimal number between 62.5 and 100.0\n",
        "# [Default: 62.5]\n",
        "coverage = 69\n",
        "\n",
        "[model.unbalanced]\n",
        "# AN UNBALANCED MODEL WITH ADJUSTABLE INPUT SIZE OPTIONS.\n",
        "# THIS IS AN UNBALANCED MODEL SO B>A SWAPS MAY NOT WORK WELL\n",
        "\n",
        "# Lower memory mode. Set to 'True' if having issues with VRAM useage.\n",
        "# NB: Models with a changed lowmem mode are not compatible with each other. NB: lowmem will override cutom nodes and complexity settings.\n",
        "# Choose from: True, False\n",
        "# [Default: False]\n",
        "lowmem = False\n",
        "\n",
        "# Use DSSIM for Loss rather than Mean Absolute Error\n",
        "# May increase overall quality.\n",
        "# Choose from: True, False\n",
        "# [Default: False]\n",
        "dssim_loss = False\n",
        "\n",
        "# The mask to be used for training. Select none to not use a mask\n",
        "# Choose from: ['none', 'dfaker', 'dfl_full']\n",
        "# [Default: none]\n",
        "mask_type = none\n",
        "\n",
        "# Number of nodes for decoder. Don't change this unless you know what you are doing!\n",
        "# Select an integer between 512 and 4096\n",
        "# [Default: 1024]\n",
        "nodes = 1024\n",
        "\n",
        "# Encoder Convolution Layer Complexity. sensible ranges: 128 to 160\n",
        "# Select an integer between 64 and 1024\n",
        "# [Default: 128]\n",
        "complexity_encoder = 128\n",
        "\n",
        "# Decoder A Complexity.\n",
        "# Select an integer between 64 and 1024\n",
        "# [Default: 384]\n",
        "complexity_decoder_a = 384\n",
        "\n",
        "# Decoder B Complexity.\n",
        "# Select an integer between 64 and 1024\n",
        "# [Default: 512]\n",
        "complexity_decoder_b = 512\n",
        "\n",
        "# Resolution (in pixels) of the image to train on.\n",
        "# BE AWARE Larger resolution will dramatically increaseVRAM requirements.\n",
        "# Make sure your resolution is divisible by 64 (e.g. 64, 128, 256 etc.).\n",
        "# NB: Your faceset must be at least 1.6x larger than your required input size.\n",
        "#     (e.g. 160 is the maximum input size for a 256x256 faceset)\n",
        "# Select an integer between 64 and 512\n",
        "# [Default: 128]\n",
        "input_size = 128\n",
        "\n",
        "# How much of the extracted image to train on. Generally the model is optimized\n",
        "# to the default value. Sensible values to use are:\n",
        "# \t62.5%% spans from eyebrow to eyebrow.\n",
        "# \t75.0%% spans from temple to temple.\n",
        "# \t87.5%% spans from ear to ear.\n",
        "# \t100.0%% is a mugshot.\n",
        "# Select a decimal number between 62.5 and 100.0\n",
        "# [Default: 62.5]\n",
        "coverage = 62.5\n",
        "\n",
        "[model.villain]\n",
        "# A HIGHER RESOLUTION VERSION OF THE ORIGINAL MODEL BY VILLAINGUY.\n",
        "# EXTREMELY VRAM HEAVY. FULL MODEL REQUIRES 9GB+ FOR BATCHSIZE 16\n",
        "\n",
        "# Lower memory mode. Set to 'True' if having issues with VRAM useage.\n",
        "# NB: Models with a changed lowmem mode are not compatible with each other.\n",
        "# Choose from: True, False\n",
        "# [Default: False]\n",
        "lowmem = False\n",
        "\n",
        "# Use DSSIM for Loss rather than Mean Absolute Error\n",
        "# May increase overall quality.\n",
        "# Choose from: True, False\n",
        "# [Default: False]\n",
        "dssim_loss = True\n",
        "\n",
        "# The mask to be used for training. Select none to not use a mask\n",
        "# Choose from: ['none', 'dfaker', 'dfl_full']\n",
        "# [Default: none]\n",
        "mask_type = none\n",
        "\n",
        "# How much of the extracted image to train on. Generally the model is optimized\n",
        "# to the default value. Sensible values to use are:\n",
        "# \t62.5%% spans from eyebrow to eyebrow.\n",
        "# \t75.0%% spans from temple to temple.\n",
        "# \t87.5%% spans from ear to ear.\n",
        "# \t100.0%% is a mugshot.\n",
        "# Select a decimal number between 62.5 and 100.0\n",
        "# [Default: 62.5]\n",
        "coverage = 75\n",
        "\"\"\"\n",
        "\n",
        "with open(\"faceswap/config/train.ini\", \"w\") as text_file:\n",
        "    text_file.write(config)"
      ],
      "execution_count": null,
      "outputs": []
    },
    {
      "metadata": {
        "id": "qsQoadKKHXSp"
      },
      "cell_type": "markdown",
      "source": [
        "# MachineTube Repository Model Export\n",
        "\n",
        "Models trained as Original can be exported to machinetube format. Models can be added to https://www.machine.tube/models\n",
        "Run the first cell to get the conversion code.\n",
        "Before runing the conversion cell set the model path\n",
        "\n"
      ]
    },
    {
      "metadata": {
        "id": "i1t9g5SDIq_K"
      },
      "cell_type": "code",
      "source": [
        "!git clone https://github.com/transcranial/keras-js.git"
      ],
      "execution_count": null,
      "outputs": []
    },
    {
      "metadata": {
        "id": "fHmok2KNIrKJ"
      },
      "cell_type": "code",
      "source": [
        "# set the path to the model files\n",
        "model_path = 'Drive/models'\n",
        "\n",
        "import os\n",
        "mode_paths = [f for f in os.listdir(model_path) if os.path.splitext(f)[1][1:] == 'h5']\n",
        "\n",
        "print (mode_paths)\n",
        "\n",
        "for file in mode_paths:\n",
        "  full_path = os.path.join(model_path, file)\n",
        "  !python3 keras-js/python/encoder.py $full_path -q"
      ],
      "execution_count": null,
      "outputs": []
    }
  ]
}